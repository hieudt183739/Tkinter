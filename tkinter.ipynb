{
 "cells": [
  {
   "cell_type": "markdown",
   "metadata": {},
   "source": [
    "# TKinter Concept\n",
    "Tài liệu tham khảo:\n",
    "- [Tkinter Document 1](https://docs.python.org/3/library/tkinter.ttk.html#)\n",
    "- [Tkinter Document 2](https://epydoc.sourceforge.net/stdlib/Tkinter-module.html)\n",
    "- [Tkinter Document 3](https://tcl.tk/man/tcl8.6/TkCmd/ttk_entry.htm)\n",
    "- [Course](https://www.linkedin.com/learning/python-gui-development-with-tkinter-2/capturing-input-with-buttons)   \n",
    "\n",
    "Widget là tất cả mọi thứ hiển thị trên giao diện. Bao gồm các thành phần như Button, Text entry field, … hay các thành phần khác như khung cửa sổ ứng dụng, khung chứa các widget khác…\n",
    "\n",
    "Trong Tkinter, <span style=\"color:#BF8040\">**mỗi loại Widget sẽ là 1 class riêng**</span>, khi muốn thêm 1 Widget vào ứng dụng thì phải tạo một đối tượng của Class tương ứng. Đối tượng này sẽ chứa mọi setting của Widget đó như: màu sắc, vị trí hiển thị, … Vậy lên khi muốn chỉnh sửa 1 Widget nào đó, ta sẽ chỉnh sửa chính đối tượng này thông qua các tham số của đối tượng\n",
    "\n",
    "Các Widget được tổ chức dưới dạng cây phân cấp, tức là <span style=\"color:#BF8040\">**Widget khi được tạo cần phải xác định cha của Widget đó là Widget gì**</span>. Cây phân cấp này luôn có gốc là Root Widget, là một đối tượng luôn luôn phải khởi tạo đầu tiên khi sử dụng Tkinter.\n",
    "\n",
    "- Widget cha được gọi là Master Widget / Parent Widget. Thường là các Container Widget như Frame\n",
    "- Widget con được gọi là Slave / Child Widget\n",
    "\n",
    "<div style=\"background-color:#D75854; padding: 10px; border-radius: 5px;\">\n",
    "  💡 <strong>Master Widget thường là Top-level Window hoặc là Frame Widget</strong>\n",
    "</div>\n",
    "\n",
    "Mỗi Widget sau khi được tạo sẽ được tự động Tkinter đặt cho 1 tên riêng, tên này sẽ được dùng khi biên dịch thành mã để Tk hiểu được, tức là Tk sẽ dùng cái tên này để nhận dạng các Widget. Có thể xem tên này bằng lệnh `str(<widget>)`\n",
    "\n",
    "Các <u>*Widget cha sẽ có vai trò để điều chỉnh cách mà các Widget con hiển thị*</u>. Như ở hình dưới, các widget đều là con của Root Widget và các Widget như Label, Radio Button là con của Frame Widget.`\n",
    "\n",
    "<div style=\"text-align: center;\">\n",
    "    <img src=\"./Images/hierarchy.png\" alt=\"\" style=\"display: inline-block;\" width=\"800\" height=\"600\">\n",
    "    <p><em>Hình 1: Mối quan hệ giữa các Widget</em></p>\n",
    "</div>\n",
    "\n",
    "\n",
    "Khi tạo <u>*1 Widget thì cần phải gắn nó vào cửa sổ thì nó mới hiển thị, bao gồm 3 phương pháp pack(), grid(), place()*</u>. Mỗi phương pháp là 1 cách xác định vị trí đặt Widget.\n",
    "\n",
    "Các thuộc tính của Widget sẽ được khởi tạo khi tao đối tượng của Widget đó, tuy nhiên nếu <span style=\"color:#BF8040\">*muốn thay đổi các thuộc tính sau khi tạo thì có thể sử dụng ngoặc vuông với tên của thuộc tính đó, giống thao tác với DataFrame. Hoặc sử dụng hàm config()*</span>"
   ]
  },
  {
   "cell_type": "code",
   "execution_count": 2,
   "metadata": {},
   "outputs": [
    {
     "name": "stdout",
     "output_type": "stream",
     "text": [
      "Giá trị thuộc tính text của Button trước:  Hello\n",
      "Giá trị thuộc tính text của Button sau:  Hi\n",
      "Các thuộc tính của Button Widget:  {'command': ('command', 'command', 'Command', '', ''), 'default': ('default', 'default', 'Default', <index object: 'normal'>, <index object: 'normal'>), 'takefocus': ('takefocus', 'takeFocus', 'TakeFocus', 'ttk::takefocus', 'ttk::takefocus'), 'text': ('text', 'text', 'Text', '', 'Hi'), 'textvariable': ('textvariable', 'textVariable', 'Variable', '', ''), 'underline': ('underline', 'underline', 'Underline', -1, -1), 'width': ('width', 'width', 'Width', '', ''), 'image': ('image', 'image', 'Image', '', ''), 'compound': ('compound', 'compound', 'Compound', '', ''), 'padding': ('padding', 'padding', 'Pad', '', ''), 'state': ('state', 'state', 'State', <index object: 'normal'>, <index object: 'normal'>), 'cursor': ('cursor', 'cursor', 'Cursor', '', ''), 'style': ('style', 'style', 'Style', '', ''), 'class': ('class', '', '', '', '')}\n",
      "Tk name của Button:  .!button\n",
      "Tk name của Root:  .\n"
     ]
    }
   ],
   "source": [
    "from tkinter import *\n",
    "from tkinter import ttk\n",
    "\n",
    "root = Tk()  # Root widget\n",
    "button = ttk.Button(\n",
    "    master=root, text=\"Hello\"\n",
    ")  # create a Button Widget, master widget is root\n",
    "button.pack()  #\n",
    "\n",
    "print(\"Giá trị thuộc tính text của Button trước: \", button[\"text\"])\n",
    "button[\"text\"] = \"Hi\"  # thay doi thuoc tinh text\n",
    "# button.config(text='Siuuu')\n",
    "\n",
    "print(\"Giá trị thuộc tính text của Button sau: \", button[\"text\"])\n",
    "\n",
    "print(\"Các thuộc tính của Button Widget: \", button.config())\n",
    "print(\"Tk name của Button: \", str(button))\n",
    "print(\"Tk name của Root: \", str(root))\n",
    "\n",
    "root.mainloop()"
   ]
  },
  {
   "cell_type": "markdown",
   "metadata": {},
   "source": [
    "# Bắt sự kiện bằng thuộc tính Command hoặc Bind\n",
    "Mỗi loại Widget đều có một thuộc tính để bắt sự kiện:\n",
    "+ Interactive Widget: (như Button) có thuôc tính Command\n",
    "+ Non-Interactive Widget: (như label) có thuộc tính Bind\n",
    "\n",
    "Các loại sự khiện hay gặp:\n",
    "+ Nhấn chuột\n",
    "+ Nhấn bàn phím \n",
    "+ Di chuyển con chuột\n",
    "+ Window resizing\n",
    "\n",
    "Hàm  <span style=\"color:#BF8040\">**mainloop() chính làm hàm gọi ra một vòng lặp chờ và bắt các sự kiện**</span>. Khi một sự kiện được bắt, hàm mainloop() sẽ gọi đến hàm xử lý sự kiện tương ứng, thực thi sau đó lại tiếp túc chờ sự kiện tiếp theo.\n",
    "\n",
    "<div style=\"background-color:#D75854; padding: 10px; border-radius: 5px;\">\n",
    "  💡 <strong>Việc xử lý sự kiện của mainloop() diễn ra một các tuần  tự, các sự kiện đến trước sẽ xử lý trước, xử lý xong rồi mới tới lượt các sự kiện sau đó.</strong>\n",
    "</div>"
   ]
  },
  {
   "cell_type": "code",
   "execution_count": 14,
   "metadata": {},
   "outputs": [],
   "source": [
    "# Chương trình bắt sự kiện nút nhấn và thay đổi giá trị của label\n",
    "from tkinter import *\n",
    "from tkinter import ttk\n",
    "\n",
    "\n",
    "class HelloApp:\n",
    "\n",
    "    def __init__(self, master):\n",
    "        self.label = ttk.Label(master, text=\"Hello, Tkinter!\")\n",
    "        self.label.grid(row=0, column=0, columnspan=2)\n",
    "\n",
    "        ttk.Button(master, text=\"Texas\", command=self.texas_hello).grid(\n",
    "            row=1, column=0\n",
    "        )  # khi nhấn nút thì gọi đến hàm texas_hello\n",
    "\n",
    "        ttk.Button(master, text=\"Hawaii\", command=self.hawaii_hello).grid(\n",
    "            row=1, column=1\n",
    "        )  # Khi nhấn nút thì gọi đến hàm hawaii_hello\n",
    "\n",
    "    def texas_hello(self):\n",
    "        self.label.config(text=\"Howdy, Tkinter!\")\n",
    "\n",
    "    def hawaii_hello(self):\n",
    "        self.label.config(text=\"Aloha, Tkinter!\")\n",
    "\n",
    "\n",
    "def main():\n",
    "\n",
    "    root = Tk()\n",
    "    app = HelloApp(root)\n",
    "    root.mainloop()  # vòng lặp bắt sự kiện\n",
    "\n",
    "\n",
    "if __name__ == \"__main__\":\n",
    "    main()"
   ]
  },
  {
   "cell_type": "markdown",
   "metadata": {},
   "source": [
    "# Label\n",
    "<span style=\"color:#BF8040\">**Dùng để hiển thị Text và Ảnh**</span>\n",
    "\n",
    "**Lưu ý:** với ví dụ ở dưới sử dụng tham số image để set giá trị ảnh cho lable. Khi ta set label.config(image=logo),<span style=\"color:#BF8040\"><u>*tham số image này thực chất không lưu 1 bản sao của ảnh mà chỉ lưu 1 con trỏ, trỏ tới ảnh được lưu trong biến logo*</u></span>, nếu logo là 1 biến cục bộ của 1 hàm, thì khi hàm đó chạy xong, biến logo sẽ bị xóa, và tham số image sẽ không trỏ tới bất kì biến nào. Để tránh điều này ta lên sử dụng biến <u>**label.image**</u> là 1 biến build-in bến trong class Label, nó sẽ lưu 1 bản sao của biến logo cho tới khi biến label bị hủy thì nó mới hủy theo."
   ]
  },
  {
   "cell_type": "code",
   "execution_count": 1,
   "metadata": {},
   "outputs": [],
   "source": [
    "from tkinter import *\n",
    "from tkinter import ttk\n",
    "\n",
    "# Label hiển thị dữ liệu dạng Text\n",
    "root = Tk()\n",
    "label = ttk.Label(master=root, text=\"Hello, Tkinter\")\n",
    "label.pack()\n",
    "label.config(text=r\"Hello, Tkinter, how are you doing, what s going on ?\")\n",
    "label.config(wraplength=150)  # Moi dong dai toi da 150 pixel\n",
    "label.config(justify=CENTER)  # căn giữa\n",
    "label.config(\n",
    "    foreground=\"red\", background=\"blue\"\n",
    ")  # foreground: màu của chữ, background: màu của nền\n",
    "label.config(\n",
    "    font=(\"Courier\", 18, \"bold\")\n",
    ")  # font = (kiểu font, cỡ chữ, in đậm/in nghiêng/gạch chân)\n",
    "\n",
    "\n",
    "# Label hiển thị dữ liệu Ảnh\n",
    "logo = PhotoImage(file=\"Images/python_logo.gif\")\n",
    "label.config(\n",
    "    image=logo\n",
    ")  # không lên chuyền ảnh vào kiểu này, vì nếu có thể sẽ bị garbage collection của python xóa ảnh nếu không giữ lại 1 biến tham chiếu tới\n",
    "\n",
    "# ====> Nên làm:\n",
    "logo = PhotoImage(file=\"Images/python_logo.gif\")\n",
    "label.img = logo\n",
    "label.config(image=label.img)\n",
    "label.config(compound=\"text\")  # chỉ hiển thị text\n",
    "label.config(compound=\"image\")  # chỉ hiển thị ảnh\n",
    "label.config(compound=\"center\")  # hiện thị text ở chính giữa ảnh\n",
    "label.config(compound=\"left\")  # hiển thị text ở phía trái của ảnh\n",
    "\n",
    "root.mainloop()"
   ]
  },
  {
   "cell_type": "markdown",
   "metadata": {},
   "source": [
    "# Button\n",
    "<span style=\"color:#BF8040\">**Summary:**</span>  \n",
    "+ invoke(): Giả việc bấm nút\n",
    "+ state() : cài đặt các trạng thái của button (disable, !disable, forcus...). [ Xem thêm ](https://docs.python.org/3/library/tkinter.ttk.html#widget-states)\n",
    "+ instate(): Kiểm tra trạng thái của button\n",
    "+ Thêm ảnh cho Button\n",
    "+ subsample(): Thu nhỏ ảnh. [Xem thêm](https://epydoc.sourceforge.net/stdlib/Tkinter-module.html) "
   ]
  },
  {
   "cell_type": "code",
   "execution_count": 29,
   "metadata": {},
   "outputs": [
    {
     "name": "stdout",
     "output_type": "stream",
     "text": [
      "Click!\n",
      "True\n",
      "True\n",
      "Click!\n",
      "Click!\n",
      "Click!\n"
     ]
    }
   ],
   "source": [
    "from tkinter import *\n",
    "from tkinter import ttk\n",
    "\n",
    "root = Tk()\n",
    "button = ttk.Button(master=root, text=\"Click Me\")\n",
    "button.pack()\n",
    "\n",
    "def call_back():\n",
    "    print(\"Click!\")\n",
    "\n",
    "button.config(command=call_back)\n",
    "button.invoke()  # Hàm mô phỏng button được nhấn. Rất hưu ích khi muốn sử dụng lại chức năng hàm Call_Back ở chỗ bất kì trong code mà không muốn tạo lại 1 hàm giông hệt\n",
    "\n",
    "button.state([\"disabled\"]) # Vô hiệu hóa nút bấm\n",
    "print(button.instate([\"disabled\"]))  # Return: bool - button có đang ở trạng thái disabled hay không\n",
    "button.state([\"!disabled\"]) # Bật lại Nút bấm\n",
    "print(button.instate([\"!disabled\"]))\n",
    "\n",
    "logo = PhotoImage(file=\"Images/python_logo.gif\")\n",
    "smaller_logo = logo.subsample(5, 5) # Giảm kích thước của ảnh, với mỗi 5 pixel theo chiều dọc và ngang, chỉ lấy 1 pixel đại diện. Tức là ảnh này sẽ nhỏ đi 5 lần\n",
    "button.config(image=smaller_logo, compound=LEFT)\n",
    "\n",
    "root.mainloop()"
   ]
  },
  {
   "cell_type": "markdown",
   "metadata": {},
   "source": [
    "# CheckButton and Radio Button\n",
    "+ RadioButton và CheckButton có các tham số giống với Button, có nghĩa có thể sử dụng cả tham số 'command' để sử dụng hàm callback khi được chọn\n",
    "+ Sự khác biệt giữa RadioButton và CheckButton là RadioButton sẽ yêu cầu ta phải và chỉ chọn 1 trong số các lựa chọn, còn CheckButton thì chọn hoặc không chọn là tùy\n",
    "+ Đặc biệt, RadioButton và CheckButton có tham số \"variable\", tham số này sẽ thay đổi dựa vào trạng thái được chọn hay không được chọn, giá trị sẽ được cài đặt theo 2 tham số \"onvalue\" , \"offvalue\"\n",
    "+ Có 4 loại biến đặc biệt, các Widget có tham chiếu tới 4 loại biến này thì sẽ tự động update giá trị khi các biến có sự thay đổi.\n",
    "  + BooleanVar (True/False)\n",
    "  + DoubleVar (Số thập phân)\n",
    "  + IntVar (Số nguyên)\n",
    "  + StringVar (Chuỗi kí tự)\n",
    "\n",
    "+ tham số \"variable\" trong Checkbutton và Radiobutton mặc định có giá trị là 0 nếu không được lựa chọn và giá trị là 1 nếu được lựa chọn. Thay đổi 2 giá trị này sử dụng thêm tham số \"onvalue\" và \"offvalue\". Sử dụng hàm set() để ghi giá trị và get() để lấy giá trị của biến này. \n",
    "\n",
    "<div style=\"background-color:#D75854; padding: 10px; border-radius: 5px;\">\n",
    "  💡 <strong>Thường có thể hay sử  dụng tham số \"variable\" là 1 trong 4 biến trên</strong>\n",
    "</div>"
   ]
  },
  {
   "cell_type": "code",
   "execution_count": 19,
   "metadata": {},
   "outputs": [
    {
     "name": "stdout",
     "output_type": "stream",
     "text": [
      "hello\n",
      ".!radiobutton\n",
      ".!radiobutton2\n",
      ".!radiobutton3\n"
     ]
    }
   ],
   "source": [
    "from tkinter import *\n",
    "from tkinter import ttk\n",
    "\n",
    "root = Tk()\n",
    "root.minsize(width=200, height=200) # initial window size\n",
    "check_button = ttk.Checkbutton(root, text=\"SPAM\")\n",
    "check_button.pack()\n",
    "\n",
    "# Biến của Tkinkter\n",
    "spam = StringVar()\n",
    "spam.set(\"hello\")\n",
    "print(spam.get())\n",
    "\n",
    "check_button.config(variable=spam, onvalue=\"hello\", offvalue=\"hi\") # Nếu CheckButton được chọn thì gía trị của biến spam sẽ là hello và ko được chọn thì là hi\n",
    "\n",
    "radio_button1 = ttk.Radiobutton(root, text=\"Siuu\", variable=spam, value=\"Siuu\")    # Nếu được chọn thì gía trị spam = Siuu\n",
    "radio_button2 = ttk.Radiobutton(root, text=\"Messi\", variable=spam, value=\"Messi\")  # Nếu được chọn thì gía trị spam = Messi\n",
    "radio_button3 = ttk.Radiobutton(root, text=\"Ronaldo\", variable=spam, value=\"Ronaldo\")# Nếu được chọn thì gía trị spam = Ronaldo\n",
    "radio_button1.pack()\n",
    "radio_button2.pack()\n",
    "radio_button3.pack()\n",
    "check_button.config(textvariable=spam)  # \"textvariable\" khi muốn tham chiếu tới kiểu biế StringVar\n",
    "print(str(radio_button1))\n",
    "print(str(radio_button2))\n",
    "print(str(radio_button3))\n",
    "\n",
    "root.mainloop()"
   ]
  },
  {
   "cell_type": "markdown",
   "metadata": {},
   "source": [
    "# Entry Widget\n",
    "<span style=\"color:#BF8040\">**Summary**</span>:\n",
    "+ Dùng để tạo vùng nhập từ bàn phím\n",
    "+ Không có tham số \"command\" để bắt sự kiện khi nhập xong và ấn enter, thay thế bằng \"bind\"\n",
    "+ delete(): Xóa kí tự ở chỗ nhập, cần chỉ định vị trí bắt đầu và kết thúc \n",
    "+ insert(): Thêm kí tự vào chỗ nhập, cần định vị trí bắt đầu và chuỗi kí tự cần nhập\n",
    "+ có hàm get() nhưng không có set() "
   ]
  },
  {
   "cell_type": "code",
   "execution_count": 30,
   "metadata": {},
   "outputs": [
    {
     "name": "stdout",
     "output_type": "stream",
     "text": [
      "Ronaldo >> Messi\n"
     ]
    }
   ],
   "source": [
    "from tkinter import *\n",
    "from tkinter import ttk\n",
    "\n",
    "root = Tk()\n",
    "root.minsize(width=200, height=200) \n",
    "entry = ttk.Entry(root, width=30)  # width: đơn vị là số kí tự \n",
    "entry.pack()\n",
    "\n",
    "entry.config(show=\"*\") # tham số show hiển thị kí tự khi nhập, thường cho là * khi dùng để nhập password\n",
    "entry.delete(first=0, last=END)\n",
    "entry.insert(index=0, string=\"Ronaldo >> Messi\")\n",
    "\n",
    "entry.state(['disabled'])  # vô hiệu hóa nhập dữ liệu\n",
    "entry.state(['!disabled'])\n",
    "\n",
    "print(entry.get())  # lấy chuỗi kí tự hiện tại ở entry\n",
    "\n",
    "root.mainloop()\n"
   ]
  },
  {
   "cell_type": "markdown",
   "metadata": {},
   "source": [
    "# ComboBox và SpinBox\n",
    "+ ComboBox như là Entry Widget nhưng mà có thêm chỗ cửa sổ xổ ra để lựa chọn gía trị\n",
    "+ SpinBox dùng để lựa chọn gía trị số trong 1 khoảng giá trị định sẵn\n",
    "+ Điểm yếu của 2 Widget này là với hàm set(),<span style=\"color:#BF8040\"><u>ta có thể nhập vào 1 kí tự bất kì không thuộc tập giá trị được định trước mà vẫn không có lỗi gì</u></span> , để khắc phục điều này thì sau khi người dùng nhập giá trị xong thì cần sử dụng hàm get() để lấy giá trị đó ra kiểm tra xem có khớp với khoảng giá trị định trước không, trước khi đến giai đoạn xử lý tiếp theo."
   ]
  },
  {
   "cell_type": "code",
   "execution_count": 45,
   "metadata": {},
   "outputs": [
    {
     "name": "stdout",
     "output_type": "stream",
     "text": [
      "Jan\n",
      "Jan\n",
      "2000\n"
     ]
    }
   ],
   "source": [
    "from tkinter import *\n",
    "from tkinter import ttk\n",
    "\n",
    "root = Tk()\n",
    "root.minsize(width=200, height=200)\n",
    "\n",
    "# ComboBox\n",
    "month = StringVar()\n",
    "combobox = ttk.Combobox(root, textvariable=month)\n",
    "combobox.pack()\n",
    "combobox.config(values=['Jan', 'Feb', 'Mar', 'Apr', 'May', 'Jun',\n",
    "                          'Jul', 'Aug', 'Sep', 'Oct', 'Nov', 'Dec'])  # tham số \"values\" là một list\n",
    "combobox.set(\"Jan\")\n",
    "print(combobox.get())\n",
    "print(month.get())\n",
    "\n",
    "# SpinBox\n",
    "year = StringVar()\n",
    "spinbox = ttk.Spinbox(root, from_=1990, to=2100, textvariable=year)\n",
    "spinbox.set(2000)\n",
    "spinbox.pack()\n",
    "print(spinbox.get())\n",
    "\n",
    "# Điểm yếu - vẫn nhận các giá trị không hợp lệ\n",
    "# combobox.set(\"Ronaldo\")\n",
    "# spinbox.set(\"Messi\")\n",
    "\n",
    "root.mainloop()"
   ]
  },
  {
   "cell_type": "markdown",
   "metadata": {},
   "source": [
    "# Progess Bar\n",
    "+ Dùng để quan sát tiến trình chạy đến đầu rồi\n",
    "+ Dùng tham số \"mode\" chỉ định 2 loại progess bar:\n",
    "  + \"indeterminate\" nếu như không biết dõ tiến trinh cần bao nhiêu bước để chạy. Dùng kèm với hàm start() và stop()\n",
    "  + \"determinate\" nếu đã biết tiến trình cần bao nhiêu bước để chạy và bước hiện tại là bao nhiêu. Dùng kèm với hàm step()"
   ]
  },
  {
   "cell_type": "code",
   "execution_count": 19,
   "metadata": {},
   "outputs": [
    {
     "name": "stdout",
     "output_type": "stream",
     "text": [
      "\n"
     ]
    }
   ],
   "source": [
    "from tkinter import *\n",
    "from tkinter import ttk\n",
    "\n",
    "root = Tk()\n",
    "root.minsize(width=200, height=200)\n",
    "\n",
    "# Progess Bar\n",
    "progessbar1 = ttk.Progressbar(root, orient=HORIZONTAL, length=150)   # \"orient\": Xác định hướng của progess bar, thường đặt nằm ngang \"HORIZONTAL\", \"length\" là đơn vị pixel\n",
    "progessbar1.pack()\n",
    "progessbar1.config(mode=\"indeterminate\")\n",
    "progessbar1.start() \n",
    "# progessbar1.stop() \n",
    "\n",
    "progessbar2 = ttk.Progressbar(root, orient=HORIZONTAL, length=150)\n",
    "progessbar2.pack()\n",
    "progessbar2.config(mode=\"determinate\", maximum=50, value=30)  # \"maximum\": số bước đê hoàn thành tiến trình, mặc định là 100; \"value\": bước hiện tại \n",
    "progessbar2.step()\n",
    "progessbar2.step(10)\n",
    "print()\n",
    "\n",
    "root.mainloop()"
   ]
  }
 ],
 "metadata": {
  "kernelspec": {
   "display_name": "Python 3",
   "language": "python",
   "name": "python3"
  },
  "language_info": {
   "codemirror_mode": {
    "name": "ipython",
    "version": 3
   },
   "file_extension": ".py",
   "mimetype": "text/x-python",
   "name": "python",
   "nbconvert_exporter": "python",
   "pygments_lexer": "ipython3",
   "version": "3.12.2"
  }
 },
 "nbformat": 4,
 "nbformat_minor": 2
}
